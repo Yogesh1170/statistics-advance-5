{
  "nbformat": 4,
  "nbformat_minor": 0,
  "metadata": {
    "colab": {
      "provenance": []
    },
    "kernelspec": {
      "name": "python3",
      "display_name": "Python 3"
    },
    "language_info": {
      "name": "python"
    }
  },
  "cells": [
    {
      "cell_type": "markdown",
      "source": [
        "Q1. Calculate the 95% confidence interval for a sample of data with a mean of 50 and a standard deviation\n",
        "of 5 using Python. Interpret the results."
      ],
      "metadata": {
        "id": "jsrnFDH7rejS"
      }
    },
    {
      "cell_type": "code",
      "source": [
        "import scipy.stats as stats\n",
        "\n",
        "# Sample data characteristics\n",
        "sample_mean = 50\n",
        "sample_std_dev = 5\n",
        "sample_size = 30  # Replace with your sample size\n",
        "\n",
        "# Confidence level (95%)\n",
        "confidence_level = 0.95\n",
        "\n",
        "# Calculate the standard error of the mean\n",
        "standard_error = sample_std_dev / (sample_size**0.5)\n",
        "\n",
        "# Calculate the margin of error\n",
        "margin_of_error = stats.norm.ppf((1 + confidence_level) / 2) * standard_error\n",
        "\n",
        "# Calculate the lower and upper bounds of the confidence interval\n",
        "confidence_interval_lower = sample_mean - margin_of_error\n",
        "confidence_interval_upper = sample_mean + margin_of_error\n",
        "\n",
        "# Print the results\n",
        "print(f\"95% Confidence Interval: ({confidence_interval_lower:.2f}, {confidence_interval_upper:.2f})\")\n"
      ],
      "metadata": {
        "colab": {
          "base_uri": "https://localhost:8080/"
        },
        "id": "lIS2Yh_Mre43",
        "outputId": "19d2a47d-704e-4884-8d46-af5dadbba2f0"
      },
      "execution_count": 41,
      "outputs": [
        {
          "output_type": "stream",
          "name": "stdout",
          "text": [
            "95% Confidence Interval: (48.21, 51.79)\n"
          ]
        }
      ]
    },
    {
      "cell_type": "markdown",
      "source": [
        "Q2. Conduct a chi-square goodness of fit test to determine if the distribution of colors of M&Ms in a bag\n",
        "matches the expected distribution of 20% blue, 20% orange, 20% green, 10% yellow, 10% red, and 20%\n",
        "brown. Use Python to perform the test with a significance level of 0.05."
      ],
      "metadata": {
        "id": "pYwaZ7ycrjF7"
      }
    },
    {
      "cell_type": "code",
      "source": [
        "import numpy as np\n",
        "from scipy import stats\n",
        "\n",
        "# Observed frequencies (counts) of each M&M color\n",
        "observed_counts = np.array([35, 25, 20, 12, 13, 25])  # Replace with your actual counts\n",
        "\n",
        "# Expected proportions for each color\n",
        "expected_proportions = np.array([0.20, 0.20, 0.20, 0.10, 0.10, 0.20])\n",
        "\n",
        "# Calculate the expected counts based on the total count\n",
        "total_count = np.sum(observed_counts)\n",
        "expected_counts = total_count * expected_proportions\n",
        "\n",
        "# Perform the chi-square goodness of fit test\n",
        "chi2, p_value = stats.chisquare(f_obs=observed_counts, f_exp=expected_counts)\n",
        "\n",
        "# Determine the degrees of freedom\n",
        "degrees_of_freedom = len(observed_counts) - 1\n",
        "\n",
        "# Set the significance level\n",
        "alpha = 0.05\n",
        "\n",
        "# Check if the p-value is less than the significance level\n",
        "if p_value < alpha:\n",
        "    print(\"Reject the null hypothesis. The distribution of M&M colors is different from the expected distribution.\")\n",
        "else:\n",
        "    print(\"Fail to reject the null hypothesis. The distribution of M&M colors matches the expected distribution.\")\n"
      ],
      "metadata": {
        "colab": {
          "base_uri": "https://localhost:8080/"
        },
        "id": "puYgdGVersiZ",
        "outputId": "0a7e37b9-136c-41b4-f1b0-e4849b75d5a2"
      },
      "execution_count": 42,
      "outputs": [
        {
          "output_type": "stream",
          "name": "stdout",
          "text": [
            "Fail to reject the null hypothesis. The distribution of M&M colors matches the expected distribution.\n"
          ]
        }
      ]
    },
    {
      "cell_type": "markdown",
      "source": [
        "Q3. Use Python to calculate the chi-square statistic and p-value for a contingency table with the following\n",
        "data:\n",
        "\n",
        "\n",
        "Group A\n",
        "\n",
        "Outcome 1 20 15\n",
        "Outcome 2 10 25\n",
        "Outcome 3 15 20\n",
        "Group B\n",
        "\n",
        "Interpret the results of the test."
      ],
      "metadata": {
        "id": "W-ygggaTr0Tg"
      }
    },
    {
      "cell_type": "code",
      "source": [
        "import numpy as np\n",
        "from scipy.stats import chi2_contingency\n",
        "\n",
        "# Create the contingency table\n",
        "data = np.array([[20, 15],\n",
        "                 [10, 25],\n",
        "                 [15, 20]])\n",
        "\n",
        "# Perform the chi-square test\n",
        "chi2, p, dof, expected = chi2_contingency(data)\n",
        "\n",
        "# Output the results\n",
        "print(f\"Chi-square statistic: {chi2:.2f}\")\n",
        "print(f\"P-value: {p:.4f}\")\n",
        "print(f\"Degrees of freedom: {dof}\")\n",
        "print(\"Expected frequencies:\")\n",
        "print(expected)\n"
      ],
      "metadata": {
        "colab": {
          "base_uri": "https://localhost:8080/"
        },
        "id": "CeuWtxWEr6Gz",
        "outputId": "044a790b-47e7-431f-92b5-a9d470f0117c"
      },
      "execution_count": 43,
      "outputs": [
        {
          "output_type": "stream",
          "name": "stdout",
          "text": [
            "Chi-square statistic: 5.83\n",
            "P-value: 0.0541\n",
            "Degrees of freedom: 2\n",
            "Expected frequencies:\n",
            "[[15. 20.]\n",
            " [15. 20.]\n",
            " [15. 20.]]\n"
          ]
        }
      ]
    },
    {
      "cell_type": "markdown",
      "source": [
        "Q4. A study of the prevalence of smoking in a population of 500 individuals found that 60 individuals\n",
        "smoked. Use Python to calculate the 95% confidence interval for the true proportion of individuals in the\n",
        "population who smoke."
      ],
      "metadata": {
        "id": "CmF-qSvosN3H"
      }
    },
    {
      "cell_type": "code",
      "source": [
        "import scipy.stats as stats\n",
        "\n",
        "# Sample size\n",
        "n = 500\n",
        "\n",
        "# Number of individuals who smoke in the sample\n",
        "x = 60\n",
        "\n",
        "# Sample proportion\n",
        "p_hat = x / n\n",
        "\n",
        "# Confidence level (95%)\n",
        "confidence_level = 0.95\n",
        "\n",
        "# Calculate the standard error of the proportion\n",
        "std_error = (p_hat * (1 - p_hat) / n) ** 0.5\n",
        "\n",
        "# Calculate the margin of error\n",
        "z_score = stats.norm.ppf(1 - (1 - confidence_level) / 2)\n",
        "margin_of_error = z_score * std_error\n",
        "\n",
        "# Calculate the lower and upper bounds of the confidence interval\n",
        "confidence_interval_lower = p_hat - margin_of_error\n",
        "confidence_interval_upper = p_hat + margin_of_error\n",
        "\n",
        "# Print the results\n",
        "print(f\"95% Confidence Interval for Smoking Proportion: ({confidence_interval_lower:.4f}, {confidence_interval_upper:.4f})\")\n"
      ],
      "metadata": {
        "colab": {
          "base_uri": "https://localhost:8080/"
        },
        "id": "HtJrEP0EsSOs",
        "outputId": "318aa2df-9af3-4802-c6cc-c6049be3ca64"
      },
      "execution_count": 44,
      "outputs": [
        {
          "output_type": "stream",
          "name": "stdout",
          "text": [
            "95% Confidence Interval for Smoking Proportion: (0.0915, 0.1485)\n"
          ]
        }
      ]
    },
    {
      "cell_type": "markdown",
      "source": [
        "Q5. Calculate the 90% confidence interval for a sample of data with a mean of 75 and a standard deviation\n",
        "of 12 using Python. Interpret the results."
      ],
      "metadata": {
        "id": "UlHvp96NsXLJ"
      }
    },
    {
      "cell_type": "code",
      "source": [
        "import scipy.stats as stats\n",
        "\n",
        "# Sample mean\n",
        "sample_mean = 75\n",
        "\n",
        "# Sample standard deviation\n",
        "sample_std_dev = 12\n",
        "\n",
        "# Sample size (number of data points)\n",
        "sample_size = 30  # Replace with your sample size\n",
        "\n",
        "# Confidence level (90%)\n",
        "confidence_level = 0.90\n",
        "\n",
        "# Calculate the standard error of the mean\n",
        "standard_error = sample_std_dev / (sample_size**0.5)\n",
        "\n",
        "# Calculate the margin of error\n",
        "margin_of_error = stats.norm.ppf((1 + confidence_level) / 2) * standard_error\n",
        "\n",
        "# Calculate the lower and upper bounds of the confidence interval\n",
        "confidence_interval_lower = sample_mean - margin_of_error\n",
        "confidence_interval_upper = sample_mean + margin_of_error\n",
        "\n",
        "# Print the results\n",
        "print(f\"90% Confidence Interval: ({confidence_interval_lower:.2f}, {confidence_interval_upper:.2f})\")\n"
      ],
      "metadata": {
        "colab": {
          "base_uri": "https://localhost:8080/"
        },
        "id": "BRFlV-OssbQ9",
        "outputId": "8b3e760d-7927-423a-8e2d-239c142ecd4a"
      },
      "execution_count": 45,
      "outputs": [
        {
          "output_type": "stream",
          "name": "stdout",
          "text": [
            "90% Confidence Interval: (71.40, 78.60)\n"
          ]
        }
      ]
    },
    {
      "cell_type": "markdown",
      "source": [
        "Q6. Use Python to plot the chi-square distribution with 10 degrees of freedom. Label the axes and shade the\n",
        "area corresponding to a chi-square statistic of 15."
      ],
      "metadata": {
        "id": "IV2bPW1fsgrL"
      }
    },
    {
      "cell_type": "code",
      "source": [
        "import matplotlib.pyplot as plt\n",
        "import numpy as np\n",
        "from scipy.stats import chi2\n",
        "\n",
        "# Degrees of freedom\n",
        "df = 10\n",
        "\n",
        "# Chi-square statistic value to shade\n",
        "chi2_statistic = 15\n",
        "\n",
        "# Generate values for the chi-square distribution\n",
        "x = np.linspace(0, 30, 1000)  # Adjust the range and granularity as needed\n",
        "y = chi2.pdf(x, df)\n",
        "\n",
        "# Create the plot\n",
        "plt.plot(x, y, 'b-', lw=2)\n",
        "\n",
        "# Shade the area under the curve for chi2_statistic\n",
        "x_fill = np.linspace(0, chi2_statistic, 100)\n",
        "y_fill = chi2.pdf(x_fill, df)\n",
        "plt.fill_between(x_fill, y_fill, color='gray', alpha=0.5)\n",
        "\n",
        "# Label the axes and add a title\n",
        "plt.xlabel('Chi-square Statistic')\n",
        "plt.ylabel('Probability Density')\n",
        "plt.title(f'Chi-square Distribution (df={df})')\n",
        "\n",
        "# Add a vertical line at chi2_statistic\n",
        "plt.axvline(x=chi2_statistic, color='red', linestyle='--', label=f'Chi2={chi2_statistic:.2f}')\n",
        "\n",
        "# Add a legend\n",
        "plt.legend(loc='upper right')\n",
        "\n",
        "# Show the plot\n",
        "plt.grid(True)\n",
        "plt.show()\n"
      ],
      "metadata": {
        "colab": {
          "base_uri": "https://localhost:8080/",
          "height": 480
        },
        "id": "_mTmdGS3sm6a",
        "outputId": "db3418e9-3dbd-48ab-8cfd-938324e1c375"
      },
      "execution_count": 46,
      "outputs": [
        {
          "output_type": "display_data",
          "data": {
            "text/plain": [
              "<Figure size 640x480 with 1 Axes>"
            ],
            "image/png": "[encoded data removed]"
          },
          "metadata": {}
        }
      ]
    },
    {
      "cell_type": "markdown",
      "source": [
        "Q7. A random sample of 1000 people was asked if they preferred Coke or Pepsi. Of the sample, 520\n",
        "preferred Coke. Calculate a 99% confidence interval for the true proportion of people in the population who\n",
        "prefer Coke."
      ],
      "metadata": {
        "id": "HrWYiAktss2X"
      }
    },
    {
      "cell_type": "code",
      "source": [
        "import scipy.stats as stats\n",
        "\n",
        "# Sample size\n",
        "n = 1000\n",
        "\n",
        "# Number of people who preferred Coke in the sample\n",
        "x = 520\n",
        "\n",
        "# Sample proportion\n",
        "p_hat = x / n\n",
        "\n",
        "# Confidence level (99%)\n",
        "confidence_level = 0.99\n",
        "\n",
        "# Calculate the standard error of the proportion\n",
        "std_error = (p_hat * (1 - p_hat) / n) ** 0.5\n",
        "\n",
        "# Calculate the margin of error\n",
        "z_score = stats.norm.ppf(1 - (1 - confidence_level) / 2)\n",
        "margin_of_error = z_score * std_error\n",
        "\n",
        "# Calculate the lower and upper bounds of the confidence interval\n",
        "confidence_interval_lower = p_hat - margin_of_error\n",
        "confidence_interval_upper = p_hat + margin_of_error\n",
        "\n",
        "# Print the results\n",
        "print(f\"99% Confidence Interval for the Proportion Preferring Coke: ({confidence_interval_lower:.4f}, {confidence_interval_upper:.4f})\")\n"
      ],
      "metadata": {
        "colab": {
          "base_uri": "https://localhost:8080/"
        },
        "id": "ZvpZ4xdSsxdJ",
        "outputId": "3a47282c-dd9d-42b5-9548-b5338a44b8e3"
      },
      "execution_count": 47,
      "outputs": [
        {
          "output_type": "stream",
          "name": "stdout",
          "text": [
            "99% Confidence Interval for the Proportion Preferring Coke: (0.4793, 0.5607)\n"
          ]
        }
      ]
    },
    {
      "cell_type": "markdown",
      "source": [
        "Q8. A researcher hypothesizes that a coin is biased towards tails. They flip the coin 100 times and observe\n",
        "45 tails. Conduct a chi-square goodness of fit test to determine if the observed frequencies match the\n",
        "expected frequencies of a fair coin. Use a significance level of 0.05."
      ],
      "metadata": {
        "id": "fbafJYrOs3gx"
      }
    },
    {
      "cell_type": "code",
      "source": [
        "import scipy.stats as stats\n",
        "\n",
        "# Observed frequencies\n",
        "observed_tails = 45\n",
        "observed_heads = 100 - observed_tails\n",
        "\n",
        "# Expected frequencies for a fair coin\n",
        "expected_tails = 0.5 * 100\n",
        "expected_heads = 100 - expected_tails\n",
        "\n",
        "# Create a contingency table\n",
        "observed_frequencies = [observed_heads, observed_tails]\n",
        "expected_frequencies = [expected_heads, expected_tails]\n",
        "\n",
        "# Perform the chi-square goodness of fit test\n",
        "chi2, p_value = stats.chisquare(f_obs=observed_frequencies, f_exp=expected_frequencies)\n",
        "\n",
        "# Set the significance level\n",
        "alpha = 0.05\n",
        "\n",
        "# Check if the p-value is less than the significance level\n",
        "if p_value < alpha:\n",
        "    print(\"Reject the null hypothesis. The coin may be biased towards tails.\")\n",
        "else:\n",
        "    print(\"Fail to reject the null hypothesis. The coin appears to be fair.\")\n"
      ],
      "metadata": {
        "colab": {
          "base_uri": "https://localhost:8080/"
        },
        "id": "P991lkmss7S5",
        "outputId": "7c4311fa-5533-41c2-be0e-3b7dfb20fe00"
      },
      "execution_count": 48,
      "outputs": [
        {
          "output_type": "stream",
          "name": "stdout",
          "text": [
            "Fail to reject the null hypothesis. The coin appears to be fair.\n"
          ]
        }
      ]
    },
    {
      "cell_type": "markdown",
      "source": [
        "Q9. A study was conducted to determine if there is an association between smoking status (smoker or\n",
        "non-smoker) and lung cancer diagnosis (yes or no). The results are shown in the contingency table below.\n",
        "Conduct a chi-square test for independence to determine if there is a significant association between\n",
        "smoking status and lung cancer diagnosis.\n",
        "\n",
        "Lung Cancer: Yes\n",
        "\n",
        "Smoker 60 140\n",
        "Non-smoker 30 170\n",
        "Lung Cancer: No\n",
        "\n",
        "Use a significance level of 0.05."
      ],
      "metadata": {
        "id": "Yx17jSpvtBVK"
      }
    },
    {
      "cell_type": "code",
      "source": [
        "import scipy.stats as stats\n",
        "\n",
        "# Create a contingency table\n",
        "observed_data = [[60, 140],\n",
        "                 [30, 170]]\n",
        "\n",
        "# Perform the chi-square test for independence\n",
        "chi2, p_value, dof, expected = stats.chi2_contingency(observed_data)\n",
        "\n",
        "# Set the significance level\n",
        "alpha = 0.05\n",
        "\n",
        "# Check if the p-value is less than the significance level\n",
        "if p_value < alpha:\n",
        "    print(\"Reject the null hypothesis. There is a significant association between smoking status and lung cancer diagnosis.\")\n",
        "else:\n",
        "    print(\"Fail to reject the null hypothesis. There is no significant association between smoking status and lung cancer diagnosis.\")\n"
      ],
      "metadata": {
        "colab": {
          "base_uri": "https://localhost:8080/"
        },
        "id": "bUzMXF3FtR5t",
        "outputId": "3c1e3f41-c8ae-4af1-ceda-c3a3a286bd9e"
      },
      "execution_count": 49,
      "outputs": [
        {
          "output_type": "stream",
          "name": "stdout",
          "text": [
            "Reject the null hypothesis. There is a significant association between smoking status and lung cancer diagnosis.\n"
          ]
        }
      ]
    },
    {
      "cell_type": "markdown",
      "source": [
        "Q10. A study was conducted to determine if the proportion of people who prefer milk chocolate, dark\n",
        "chocolate, or white chocolate is different in the U.S. versus the U.K. A random sample of 500 people from\n",
        "the U.S. and a random sample of 500 people from the U.K. were surveyed. The results are shown in the\n",
        "contingency table below. Conduct a chi-square test for independence to determine if there is a significant\n",
        "association between chocolate preference and country of origin.\n",
        "\n",
        "\n",
        "Milk Chocolate\n",
        "\n",
        "U.S. (n=500) 200 150 150\n",
        "U.K. (n=500) 225 175 100\n",
        "Dark Chocolate White Chocolate\n",
        "\n",
        "Use a significance level of 0.01."
      ],
      "metadata": {
        "id": "j21XP_f7tWIN"
      }
    },
    {
      "cell_type": "code",
      "source": [
        "import scipy.stats as stats\n",
        "\n",
        "# Create a contingency table with the observed frequencies\n",
        "observed_data = [[200, 150, 150],\n",
        "                 [225, 175, 100]]\n",
        "\n",
        "# Perform the chi-square test for independence\n",
        "chi2, p_value, dof, expected = stats.chi2_contingency(observed_data)\n",
        "\n",
        "# Set the significance level\n",
        "alpha = 0.01\n",
        "\n",
        "# Check if the p-value is less than the significance level\n",
        "if p_value < alpha:\n",
        "    print(\"Reject the null hypothesis. There is a significant association between chocolate preference and country of origin.\")\n",
        "else:\n",
        "    print(\"Fail to reject the null hypothesis. There is no significant association between chocolate preference and country of origin.\")\n"
      ],
      "metadata": {
        "colab": {
          "base_uri": "https://localhost:8080/"
        },
        "id": "tyCpiowLtpDX",
        "outputId": "ecbbc07c-e4be-4262-e381-c6e08825703b"
      },
      "execution_count": 50,
      "outputs": [
        {
          "output_type": "stream",
          "name": "stdout",
          "text": [
            "Reject the null hypothesis. There is a significant association between chocolate preference and country of origin.\n"
          ]
        }
      ]
    },
    {
      "cell_type": "markdown",
      "source": [
        "Q11. A random sample of 30 people was selected from a population with an unknown mean and standard\n",
        "deviation. The sample mean was found to be 72 and the sample standard deviation was found to be 10.\n",
        "Conduct a hypothesis test to determine if the population mean is significantly different from 70. Use a\n",
        "significance level of 0.05."
      ],
      "metadata": {
        "id": "YNr1oYm8tuEm"
      }
    },
    {
      "cell_type": "code",
      "source": [
        "import scipy.stats as stats\n",
        "\n",
        "# Sample mean\n",
        "sample_mean = 72\n",
        "\n",
        "# Sample standard deviation\n",
        "sample_std_dev = 10\n",
        "\n",
        "# Sample size\n",
        "sample_size = 30\n",
        "\n",
        "# Hypothesized population mean\n",
        "population_mean_hypothesis = 70\n",
        "\n",
        "# Calculate the t-statistic\n",
        "t_statistic = (sample_mean - population_mean_hypothesis) / (sample_std_dev / (sample_size**0.5))\n",
        "\n",
        "# Degrees of freedom\n",
        "degrees_of_freedom = sample_size - 1\n",
        "\n",
        "# Significance level\n",
        "alpha = 0.05\n",
        "\n",
        "# Calculate the critical t-value for a two-tailed test\n",
        "critical_t_value = stats.t.ppf(1 - alpha/2, degrees_of_freedom)\n",
        "\n",
        "# Calculate the p-value for a two-tailed test\n",
        "p_value = 2 * (1 - stats.t.cdf(abs(t_statistic), degrees_of_freedom))\n",
        "\n",
        "# Perform the hypothesis test\n",
        "if abs(t_statistic) > critical_t_value:\n",
        "    print(\"Reject the null hypothesis. The population mean is significantly different from 70.\")\n",
        "else:\n",
        "    print(\"Fail to reject the null hypothesis. There is no significant difference in the population mean from 70.\")\n",
        "\n",
        "# Print the t-statistic and p-value\n",
        "print(f\"t-statistic: {t_statistic:.4f}\")\n",
        "print(f\"P-value: {p_value:.4f}\")\n"
      ],
      "metadata": {
        "colab": {
          "base_uri": "https://localhost:8080/"
        },
        "id": "nhYpxmFcty7y",
        "outputId": "2a2f0b76-05f4-40e2-f834-3b5434b7518d"
      },
      "execution_count": 51,
      "outputs": [
        {
          "output_type": "stream",
          "name": "stdout",
          "text": [
            "Fail to reject the null hypothesis. There is no significant difference in the population mean from 70.\n",
            "t-statistic: 1.0954\n",
            "P-value: 0.2823\n"
          ]
        }
      ]
    }
  ]
}